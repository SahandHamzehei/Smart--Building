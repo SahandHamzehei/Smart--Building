{
 "cells": [
  {
   "cell_type": "code",
   "execution_count": 1,
   "metadata": {},
   "outputs": [],
   "source": [
    "from eppy import modeleditor\n",
    "from eppy.modeleditor import IDF\n",
    "from matplotlib import pyplot as plt\n",
    "import os\n",
    "import pandas as pd\n",
    "import besos as besos\n",
    "from besos import eppy_funcs as ef\n",
    "from besos import sampling\n",
    "from besos.evaluator import EvaluatorEP\n",
    "from besos.parameters import RangeParameter, FieldSelector, FilterSelector, Parameter, expand_plist, wwr, CategoryParameter, GenericSelector\n",
    "from besos.problem import EPProblem"
   ]
  },
  {
   "cell_type": "markdown",
   "metadata": {},
   "source": [
    "#### Define the IDF, IDD and the weather file"
   ]
  },
  {
   "cell_type": "code",
   "execution_count": 2,
   "metadata": {},
   "outputs": [],
   "source": [
    "idd_file='/usr/local/EnergyPlus-9-0-1/Energy+.idd'\n",
    "weather_file ='/home/ict4bd/Downloads/epw/RUS_Moscow.276120_IWEC.epw'"
   ]
  },
  {
   "cell_type": "code",
   "execution_count": 3,
   "metadata": {},
   "outputs": [],
   "source": [
    "building = ef.get_building('/home/ict4bd/Downloads/idfs/V9/on_off.idf')"
   ]
  },
  {
   "cell_type": "code",
   "execution_count": 4,
   "metadata": {},
   "outputs": [],
   "source": [
    "insulation = FieldSelector(class_name='Material', object_name='Cement/plaster/mortar - gypsum plaster_O.OO2', field_name='Thickness')\n",
    "insulationPR = Parameter(selector=insulation, value_descriptor=CategoryParameter(options=[0.0001,0.05,0.2]),name='Insulation Thickness')\n",
    "window_to_wall = wwr(RangeParameter(0.1,0.9))\n",
    "\n",
    "parameters = [window_to_wall, insulationPR]"
   ]
  },
  {
   "cell_type": "markdown",
   "metadata": {},
   "source": [
    "#### setting optimal found values as sample"
   ]
  },
  {
   "cell_type": "code",
   "execution_count": 5,
   "metadata": {
    "scrolled": true
   },
   "outputs": [
    {
     "data": {
      "text/html": [
       "<div>\n",
       "<style scoped>\n",
       "    .dataframe tbody tr th:only-of-type {\n",
       "        vertical-align: middle;\n",
       "    }\n",
       "\n",
       "    .dataframe tbody tr th {\n",
       "        vertical-align: top;\n",
       "    }\n",
       "\n",
       "    .dataframe thead th {\n",
       "        text-align: right;\n",
       "    }\n",
       "</style>\n",
       "<table border=\"1\" class=\"dataframe\">\n",
       "  <thead>\n",
       "    <tr style=\"text-align: right;\">\n",
       "      <th></th>\n",
       "      <th>Window to Wall Ratio</th>\n",
       "      <th>Insulation Thickness</th>\n",
       "    </tr>\n",
       "  </thead>\n",
       "  <tbody>\n",
       "    <tr>\n",
       "      <th>0</th>\n",
       "      <td>0.1</td>\n",
       "      <td>0.2</td>\n",
       "    </tr>\n",
       "  </tbody>\n",
       "</table>\n",
       "</div>"
      ],
      "text/plain": [
       "   Window to Wall Ratio  Insulation Thickness\n",
       "0                   0.1                   0.2"
      ]
     },
     "execution_count": 5,
     "metadata": {},
     "output_type": "execute_result"
    }
   ],
   "source": [
    "samples_temp =[]\n",
    "samples_temp.append({'Window to Wall Ratio': 0.1,                     \n",
    "                     'Insulation Thickness': 0.2,})\n",
    "samples = pd.DataFrame.from_dict(samples_temp)\n",
    "samples"
   ]
  },
  {
   "cell_type": "code",
   "execution_count": 6,
   "metadata": {},
   "outputs": [
    {
     "data": {
      "application/vnd.jupyter.widget-view+json": {
       "model_id": "8bb40027b99c4be3ba909c349e2da91e",
       "version_major": 2,
       "version_minor": 0
      },
      "text/plain": [
       "HBox(children=(FloatProgress(value=0.0, description='Executing', max=1.0, style=ProgressStyle(description_widt…"
      ]
     },
     "metadata": {},
     "output_type": "display_data"
    },
    {
     "name": "stdout",
     "output_type": "stream",
     "text": [
      "\n"
     ]
    },
    {
     "data": {
      "text/html": [
       "<div>\n",
       "<style scoped>\n",
       "    .dataframe tbody tr th:only-of-type {\n",
       "        vertical-align: middle;\n",
       "    }\n",
       "\n",
       "    .dataframe tbody tr th {\n",
       "        vertical-align: top;\n",
       "    }\n",
       "\n",
       "    .dataframe thead th {\n",
       "        text-align: right;\n",
       "    }\n",
       "</style>\n",
       "<table border=\"1\" class=\"dataframe\">\n",
       "  <thead>\n",
       "    <tr style=\"text-align: right;\">\n",
       "      <th></th>\n",
       "      <th>Window to Wall Ratio</th>\n",
       "      <th>Insulation Thickness</th>\n",
       "      <th>Electricity:Facility</th>\n",
       "      <th>DistrictHeating:Facility</th>\n",
       "      <th>DistrictCooling:Facility</th>\n",
       "    </tr>\n",
       "  </thead>\n",
       "  <tbody>\n",
       "    <tr>\n",
       "      <th>0</th>\n",
       "      <td>0.1</td>\n",
       "      <td>0.2</td>\n",
       "      <td>1.278792e+11</td>\n",
       "      <td>8.151271e+10</td>\n",
       "      <td>5.576173e+09</td>\n",
       "    </tr>\n",
       "  </tbody>\n",
       "</table>\n",
       "</div>"
      ],
      "text/plain": [
       "   Window to Wall Ratio  Insulation Thickness  Electricity:Facility  \\\n",
       "0                   0.1                   0.2          1.278792e+11   \n",
       "\n",
       "   DistrictHeating:Facility  DistrictCooling:Facility  \n",
       "0              8.151271e+10              5.576173e+09  "
      ]
     },
     "execution_count": 6,
     "metadata": {},
     "output_type": "execute_result"
    }
   ],
   "source": [
    "objectives = ['Electricity:Facility', 'DistrictHeating:Facility', 'DistrictCooling:Facility']\n",
    "\n",
    "problem = EPProblem(parameters, objectives)\n",
    "evaluator = EvaluatorEP(problem, building, out_dir='Output/output_besos_best_parameters1',\n",
    "                        error_mode='Silent', err_dir='Output/output_besos_best_parameters1',\n",
    "                        epw= weather_file)\n",
    "outputs = evaluator.df_apply(samples, keep_input=True)    \n",
    "outputs"
   ]
  },
  {
   "cell_type": "code",
   "execution_count": 7,
   "metadata": {},
   "outputs": [],
   "source": [
    "idf_file = '/home/ict4bd/Downloads/NA/Output/output_besos_best_parameters2/BESOS_Output/in.idf'\n",
    "IDF.setiddname(idd_file)\n",
    "idf = IDF(idf_file,weather_file)"
   ]
  },
  {
   "cell_type": "markdown",
   "metadata": {},
   "source": [
    "#### Performing simulation"
   ]
  },
  {
   "cell_type": "code",
   "execution_count": 8,
   "metadata": {},
   "outputs": [
    {
     "name": "stdout",
     "output_type": "stream",
     "text": [
      "\r\n",
      "/usr/local/EnergyPlus-9-0-1/energyplus --weather /home/ict4bd/Downloads/epw/RUS_Moscow.276120_IWEC.epw --output-directory /home/ict4bd/Downloads/NA/Output/output_EPPY2 --idd /usr/local/EnergyPlus-9-0-1/Energy+.idd --readvars /home/ict4bd/Downloads/NA/in.idf\r\n",
      "\n"
     ]
    }
   ],
   "source": [
    "idf.run(readvars=True,output_directory=u'Output/output_EPPY')"
   ]
  },
  {
   "cell_type": "markdown",
   "metadata": {},
   "source": [
    "#### Performing file management to extract desired results"
   ]
  },
  {
   "cell_type": "code",
   "execution_count": 9,
   "metadata": {},
   "outputs": [],
   "source": [
    "csv_columns = ['Date/Time',\n",
    "              'BLOCK1:ZONE2:Zone Operative Temperature [C](Hourly)',\n",
    "              'BLOCK1:ZONE1:Zone Operative Temperature [C](Hourly)',\n",
    "              'Environment:Site Outdoor Air Drybulb Temperature [C](Hourly)',\n",
    "              'DistrictHeating:Facility [J](Hourly)',\n",
    "              'DistrictCooling:Facility [J](Hourly)',\n",
    "              'Electricity:Facility [J](Hourly)']\n",
    "              #'InteriorEquipment:Electricity [J](Hourly)']"
   ]
  },
  {
   "cell_type": "code",
   "execution_count": 10,
   "metadata": {},
   "outputs": [],
   "source": [
    "df_columns = {'Date/Time':'Date_Time',\n",
    "              'BLOCK1:ZONE2:Zone Operative Temperature [C](Hourly)':'t_in_ZONE2',\n",
    "              'BLOCK1:ZONE1:Zone Operative Temperature [C](Hourly)':'t_in_ZONE1',\n",
    "              'Environment:Site Outdoor Air Drybulb Temperature [C](Hourly)':'t_out',\n",
    "              'DistrictHeating:Facility [J](Hourly)':'power_heating',\n",
    "              'DistrictCooling:Facility [J](Hourly)':'power_cooling' ,\n",
    "              'Electricity:Facility [J](Hourly)':'power_electricity'}\n",
    "              #'InteriorEquipment:Electricity [J](Hourly)':'power_InteriorEquipment'}"
   ]
  },
  {
   "cell_type": "code",
   "execution_count": 12,
   "metadata": {
    "scrolled": true
   },
   "outputs": [],
   "source": [
    "idf_data =pd.read_csv('/home/ict4bd/Downloads/NA/Output/output_EPPY/eplusout.csv',usecols=csv_columns)"
   ]
  },
  {
   "cell_type": "code",
   "execution_count": 13,
   "metadata": {},
   "outputs": [],
   "source": [
    "idf_data = idf_data.rename(columns =df_columns)"
   ]
  },
  {
   "cell_type": "code",
   "execution_count": 14,
   "metadata": {},
   "outputs": [
    {
     "data": {
      "text/html": [
       "<div>\n",
       "<style scoped>\n",
       "    .dataframe tbody tr th:only-of-type {\n",
       "        vertical-align: middle;\n",
       "    }\n",
       "\n",
       "    .dataframe tbody tr th {\n",
       "        vertical-align: top;\n",
       "    }\n",
       "\n",
       "    .dataframe thead th {\n",
       "        text-align: right;\n",
       "    }\n",
       "</style>\n",
       "<table border=\"1\" class=\"dataframe\">\n",
       "  <thead>\n",
       "    <tr style=\"text-align: right;\">\n",
       "      <th></th>\n",
       "      <th>Date_Time</th>\n",
       "      <th>t_out</th>\n",
       "      <th>power_electricity</th>\n",
       "      <th>power_heating</th>\n",
       "      <th>power_cooling</th>\n",
       "      <th>t_in</th>\n",
       "    </tr>\n",
       "  </thead>\n",
       "  <tbody>\n",
       "    <tr>\n",
       "      <th>0</th>\n",
       "      <td>01/01  00:15:00</td>\n",
       "      <td>NaN</td>\n",
       "      <td>NaN</td>\n",
       "      <td>NaN</td>\n",
       "      <td>NaN</td>\n",
       "      <td>NaN</td>\n",
       "    </tr>\n",
       "    <tr>\n",
       "      <th>1</th>\n",
       "      <td>01/01  00:30:00</td>\n",
       "      <td>NaN</td>\n",
       "      <td>NaN</td>\n",
       "      <td>NaN</td>\n",
       "      <td>NaN</td>\n",
       "      <td>NaN</td>\n",
       "    </tr>\n",
       "    <tr>\n",
       "      <th>2</th>\n",
       "      <td>01/01  00:45:00</td>\n",
       "      <td>NaN</td>\n",
       "      <td>NaN</td>\n",
       "      <td>NaN</td>\n",
       "      <td>NaN</td>\n",
       "      <td>NaN</td>\n",
       "    </tr>\n",
       "    <tr>\n",
       "      <th>3</th>\n",
       "      <td>01/01  01:00:00</td>\n",
       "      <td>-7.4500</td>\n",
       "      <td>710174.145981</td>\n",
       "      <td>2.630603e+07</td>\n",
       "      <td>0.0</td>\n",
       "      <td>11.598198</td>\n",
       "    </tr>\n",
       "    <tr>\n",
       "      <th>4</th>\n",
       "      <td>01/01  01:15:00</td>\n",
       "      <td>NaN</td>\n",
       "      <td>NaN</td>\n",
       "      <td>NaN</td>\n",
       "      <td>NaN</td>\n",
       "      <td>NaN</td>\n",
       "    </tr>\n",
       "    <tr>\n",
       "      <th>...</th>\n",
       "      <td>...</td>\n",
       "      <td>...</td>\n",
       "      <td>...</td>\n",
       "      <td>...</td>\n",
       "      <td>...</td>\n",
       "      <td>...</td>\n",
       "    </tr>\n",
       "    <tr>\n",
       "      <th>35035</th>\n",
       "      <td>12/31  23:00:00</td>\n",
       "      <td>-5.1750</td>\n",
       "      <td>710174.145981</td>\n",
       "      <td>1.964846e+07</td>\n",
       "      <td>0.0</td>\n",
       "      <td>11.975516</td>\n",
       "    </tr>\n",
       "    <tr>\n",
       "      <th>35036</th>\n",
       "      <td>12/31  23:15:00</td>\n",
       "      <td>NaN</td>\n",
       "      <td>NaN</td>\n",
       "      <td>NaN</td>\n",
       "      <td>NaN</td>\n",
       "      <td>NaN</td>\n",
       "    </tr>\n",
       "    <tr>\n",
       "      <th>35037</th>\n",
       "      <td>12/31  23:30:00</td>\n",
       "      <td>NaN</td>\n",
       "      <td>NaN</td>\n",
       "      <td>NaN</td>\n",
       "      <td>NaN</td>\n",
       "      <td>NaN</td>\n",
       "    </tr>\n",
       "    <tr>\n",
       "      <th>35038</th>\n",
       "      <td>12/31  23:45:00</td>\n",
       "      <td>NaN</td>\n",
       "      <td>NaN</td>\n",
       "      <td>NaN</td>\n",
       "      <td>NaN</td>\n",
       "      <td>NaN</td>\n",
       "    </tr>\n",
       "    <tr>\n",
       "      <th>35039</th>\n",
       "      <td>12/31  24:00:00</td>\n",
       "      <td>-5.8375</td>\n",
       "      <td>710174.145981</td>\n",
       "      <td>2.055233e+07</td>\n",
       "      <td>0.0</td>\n",
       "      <td>11.962691</td>\n",
       "    </tr>\n",
       "  </tbody>\n",
       "</table>\n",
       "<p>35040 rows × 6 columns</p>\n",
       "</div>"
      ],
      "text/plain": [
       "              Date_Time   t_out  power_electricity  power_heating  \\\n",
       "0       01/01  00:15:00     NaN                NaN            NaN   \n",
       "1       01/01  00:30:00     NaN                NaN            NaN   \n",
       "2       01/01  00:45:00     NaN                NaN            NaN   \n",
       "3       01/01  01:00:00 -7.4500      710174.145981   2.630603e+07   \n",
       "4       01/01  01:15:00     NaN                NaN            NaN   \n",
       "...                 ...     ...                ...            ...   \n",
       "35035   12/31  23:00:00 -5.1750      710174.145981   1.964846e+07   \n",
       "35036   12/31  23:15:00     NaN                NaN            NaN   \n",
       "35037   12/31  23:30:00     NaN                NaN            NaN   \n",
       "35038   12/31  23:45:00     NaN                NaN            NaN   \n",
       "35039   12/31  24:00:00 -5.8375      710174.145981   2.055233e+07   \n",
       "\n",
       "       power_cooling       t_in  \n",
       "0                NaN        NaN  \n",
       "1                NaN        NaN  \n",
       "2                NaN        NaN  \n",
       "3                0.0  11.598198  \n",
       "4                NaN        NaN  \n",
       "...              ...        ...  \n",
       "35035            0.0  11.975516  \n",
       "35036            NaN        NaN  \n",
       "35037            NaN        NaN  \n",
       "35038            NaN        NaN  \n",
       "35039            0.0  11.962691  \n",
       "\n",
       "[35040 rows x 6 columns]"
      ]
     },
     "execution_count": 14,
     "metadata": {},
     "output_type": "execute_result"
    }
   ],
   "source": [
    "idf_data['t_in'] = idf_data[['t_in_ZONE2','t_in_ZONE1']].mean(axis=1)\n",
    "idf_data.drop(['t_in_ZONE2', 't_in_ZONE1'], axis = 1)"
   ]
  },
  {
   "cell_type": "code",
   "execution_count": 15,
   "metadata": {},
   "outputs": [],
   "source": [
    "idf_data = idf_data.dropna()"
   ]
  },
  {
   "cell_type": "code",
   "execution_count": 16,
   "metadata": {},
   "outputs": [
    {
     "data": {
      "text/html": [
       "<div>\n",
       "<style scoped>\n",
       "    .dataframe tbody tr th:only-of-type {\n",
       "        vertical-align: middle;\n",
       "    }\n",
       "\n",
       "    .dataframe tbody tr th {\n",
       "        vertical-align: top;\n",
       "    }\n",
       "\n",
       "    .dataframe thead th {\n",
       "        text-align: right;\n",
       "    }\n",
       "</style>\n",
       "<table border=\"1\" class=\"dataframe\">\n",
       "  <thead>\n",
       "    <tr style=\"text-align: right;\">\n",
       "      <th></th>\n",
       "      <th>Date_Time</th>\n",
       "      <th>t_out</th>\n",
       "      <th>t_in_ZONE2</th>\n",
       "      <th>t_in_ZONE1</th>\n",
       "      <th>power_electricity</th>\n",
       "      <th>power_heating</th>\n",
       "      <th>power_cooling</th>\n",
       "      <th>t_in</th>\n",
       "    </tr>\n",
       "  </thead>\n",
       "  <tbody>\n",
       "    <tr>\n",
       "      <th>0</th>\n",
       "      <td>01/01  01:00:00</td>\n",
       "      <td>-7.4500</td>\n",
       "      <td>11.529470</td>\n",
       "      <td>11.666926</td>\n",
       "      <td>710174.145981</td>\n",
       "      <td>2.630603e+07</td>\n",
       "      <td>0.0</td>\n",
       "      <td>11.598198</td>\n",
       "    </tr>\n",
       "    <tr>\n",
       "      <th>1</th>\n",
       "      <td>01/01  02:00:00</td>\n",
       "      <td>-7.5625</td>\n",
       "      <td>11.529724</td>\n",
       "      <td>11.665294</td>\n",
       "      <td>710174.145981</td>\n",
       "      <td>2.649795e+07</td>\n",
       "      <td>0.0</td>\n",
       "      <td>11.597509</td>\n",
       "    </tr>\n",
       "    <tr>\n",
       "      <th>2</th>\n",
       "      <td>01/01  03:00:00</td>\n",
       "      <td>-8.4625</td>\n",
       "      <td>11.499248</td>\n",
       "      <td>11.663070</td>\n",
       "      <td>710174.145981</td>\n",
       "      <td>2.746139e+07</td>\n",
       "      <td>0.0</td>\n",
       "      <td>11.581159</td>\n",
       "    </tr>\n",
       "    <tr>\n",
       "      <th>3</th>\n",
       "      <td>01/01  04:00:00</td>\n",
       "      <td>-9.1750</td>\n",
       "      <td>11.410642</td>\n",
       "      <td>11.660477</td>\n",
       "      <td>710174.145981</td>\n",
       "      <td>2.814473e+07</td>\n",
       "      <td>0.0</td>\n",
       "      <td>11.535560</td>\n",
       "    </tr>\n",
       "    <tr>\n",
       "      <th>4</th>\n",
       "      <td>01/01  05:00:00</td>\n",
       "      <td>-9.7125</td>\n",
       "      <td>11.319871</td>\n",
       "      <td>11.657485</td>\n",
       "      <td>710174.145981</td>\n",
       "      <td>2.868359e+07</td>\n",
       "      <td>0.0</td>\n",
       "      <td>11.488678</td>\n",
       "    </tr>\n",
       "    <tr>\n",
       "      <th>...</th>\n",
       "      <td>...</td>\n",
       "      <td>...</td>\n",
       "      <td>...</td>\n",
       "      <td>...</td>\n",
       "      <td>...</td>\n",
       "      <td>...</td>\n",
       "      <td>...</td>\n",
       "      <td>...</td>\n",
       "    </tr>\n",
       "    <tr>\n",
       "      <th>8755</th>\n",
       "      <td>12/31  20:00:00</td>\n",
       "      <td>-4.0875</td>\n",
       "      <td>11.958043</td>\n",
       "      <td>12.063459</td>\n",
       "      <td>710174.145981</td>\n",
       "      <td>1.802262e+07</td>\n",
       "      <td>0.0</td>\n",
       "      <td>12.010751</td>\n",
       "    </tr>\n",
       "    <tr>\n",
       "      <th>8756</th>\n",
       "      <td>12/31  21:00:00</td>\n",
       "      <td>-4.3875</td>\n",
       "      <td>11.946286</td>\n",
       "      <td>12.052794</td>\n",
       "      <td>710174.145981</td>\n",
       "      <td>1.848567e+07</td>\n",
       "      <td>0.0</td>\n",
       "      <td>11.999540</td>\n",
       "    </tr>\n",
       "    <tr>\n",
       "      <th>8757</th>\n",
       "      <td>12/31  22:00:00</td>\n",
       "      <td>-4.6875</td>\n",
       "      <td>11.934234</td>\n",
       "      <td>12.041492</td>\n",
       "      <td>710174.145981</td>\n",
       "      <td>1.894636e+07</td>\n",
       "      <td>0.0</td>\n",
       "      <td>11.987863</td>\n",
       "    </tr>\n",
       "    <tr>\n",
       "      <th>8758</th>\n",
       "      <td>12/31  23:00:00</td>\n",
       "      <td>-5.1750</td>\n",
       "      <td>11.921481</td>\n",
       "      <td>12.029551</td>\n",
       "      <td>710174.145981</td>\n",
       "      <td>1.964846e+07</td>\n",
       "      <td>0.0</td>\n",
       "      <td>11.975516</td>\n",
       "    </tr>\n",
       "    <tr>\n",
       "      <th>8759</th>\n",
       "      <td>12/31  24:00:00</td>\n",
       "      <td>-5.8375</td>\n",
       "      <td>11.908235</td>\n",
       "      <td>12.017146</td>\n",
       "      <td>710174.145981</td>\n",
       "      <td>2.055233e+07</td>\n",
       "      <td>0.0</td>\n",
       "      <td>11.962691</td>\n",
       "    </tr>\n",
       "  </tbody>\n",
       "</table>\n",
       "<p>8760 rows × 8 columns</p>\n",
       "</div>"
      ],
      "text/plain": [
       "             Date_Time   t_out  t_in_ZONE2  t_in_ZONE1  power_electricity  \\\n",
       "0      01/01  01:00:00 -7.4500   11.529470   11.666926      710174.145981   \n",
       "1      01/01  02:00:00 -7.5625   11.529724   11.665294      710174.145981   \n",
       "2      01/01  03:00:00 -8.4625   11.499248   11.663070      710174.145981   \n",
       "3      01/01  04:00:00 -9.1750   11.410642   11.660477      710174.145981   \n",
       "4      01/01  05:00:00 -9.7125   11.319871   11.657485      710174.145981   \n",
       "...                ...     ...         ...         ...                ...   \n",
       "8755   12/31  20:00:00 -4.0875   11.958043   12.063459      710174.145981   \n",
       "8756   12/31  21:00:00 -4.3875   11.946286   12.052794      710174.145981   \n",
       "8757   12/31  22:00:00 -4.6875   11.934234   12.041492      710174.145981   \n",
       "8758   12/31  23:00:00 -5.1750   11.921481   12.029551      710174.145981   \n",
       "8759   12/31  24:00:00 -5.8375   11.908235   12.017146      710174.145981   \n",
       "\n",
       "      power_heating  power_cooling       t_in  \n",
       "0      2.630603e+07            0.0  11.598198  \n",
       "1      2.649795e+07            0.0  11.597509  \n",
       "2      2.746139e+07            0.0  11.581159  \n",
       "3      2.814473e+07            0.0  11.535560  \n",
       "4      2.868359e+07            0.0  11.488678  \n",
       "...             ...            ...        ...  \n",
       "8755   1.802262e+07            0.0  12.010751  \n",
       "8756   1.848567e+07            0.0  11.999540  \n",
       "8757   1.894636e+07            0.0  11.987863  \n",
       "8758   1.964846e+07            0.0  11.975516  \n",
       "8759   2.055233e+07            0.0  11.962691  \n",
       "\n",
       "[8760 rows x 8 columns]"
      ]
     },
     "execution_count": 16,
     "metadata": {},
     "output_type": "execute_result"
    }
   ],
   "source": [
    "idf_data.reset_index(drop = True)"
   ]
  },
  {
   "cell_type": "code",
   "execution_count": 17,
   "metadata": {},
   "outputs": [],
   "source": [
    "idf_data['temp_diff'] =idf_data['t_in'] - idf_data['t_out']"
   ]
  },
  {
   "cell_type": "code",
   "execution_count": 18,
   "metadata": {},
   "outputs": [],
   "source": [
    "idf_data['Date_Time'] = '2020/' + idf_data['Date_Time'].str.strip()\n",
    "idf_data['Date_Time'] = idf_data['Date_Time'].str.replace('24:00:00','23:59:59')"
   ]
  },
  {
   "cell_type": "code",
   "execution_count": 19,
   "metadata": {},
   "outputs": [],
   "source": [
    "idf_data['power_heating'] /= 3.6e6\n",
    "idf_data['power_cooling'] /= 3.6e6\n",
    "idf_data['power_electricity'] /= 3.6e6"
   ]
  },
  {
   "cell_type": "code",
   "execution_count": 20,
   "metadata": {},
   "outputs": [],
   "source": [
    "idf_data['power_heating'] = idf_data['power_heating'].apply(lambda x: round(x, 2))\n",
    "idf_data['power_cooling'] = idf_data['power_cooling'].apply(lambda x: round(x, 2))\n",
    "idf_data['power_electricity'] = idf_data['power_electricity'].apply(lambda x: round(x, 2))\n",
    "idf_data['t_in'] = idf_data['t_in'].apply(lambda x: round(x, 2))\n",
    "idf_data['t_out'] = idf_data['t_out'].apply(lambda x: round(x, 2))"
   ]
  },
  {
   "cell_type": "code",
   "execution_count": 21,
   "metadata": {},
   "outputs": [],
   "source": [
    "idf_data['total_power'] = idf_data['power_heating']+ idf_data['power_cooling'] #+idf_data['power_electricity']"
   ]
  },
  {
   "cell_type": "code",
   "execution_count": 22,
   "metadata": {},
   "outputs": [],
   "source": [
    "idf_data = idf_data[['Date_Time','t_in','t_out','temp_diff','power_heating','power_cooling','power_electricity','total_power']]"
   ]
  },
  {
   "cell_type": "code",
   "execution_count": 23,
   "metadata": {},
   "outputs": [],
   "source": [
    "idf_data.to_csv(path_or_buf='/home/ict4bd/Downloads/NA/Output/simulation_Data_2020.csv',index=False)"
   ]
  }
 ],
 "metadata": {
  "kernelspec": {
   "display_name": "Python 3",
   "language": "python",
   "name": "python3"
  },
  "language_info": {
   "codemirror_mode": {
    "name": "ipython",
    "version": 3
   },
   "file_extension": ".py",
   "mimetype": "text/x-python",
   "name": "python",
   "nbconvert_exporter": "python",
   "pygments_lexer": "ipython3",
   "version": "3.8.8"
  }
 },
 "nbformat": 4,
 "nbformat_minor": 2
}
